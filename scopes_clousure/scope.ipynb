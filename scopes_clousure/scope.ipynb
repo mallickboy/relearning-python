{
 "cells": [
  {
   "cell_type": "code",
   "execution_count": 65,
   "metadata": {},
   "outputs": [
    {
     "name": "stdout",
     "output_type": "stream",
     "text": [
      "Tamal\n",
      "Ram\n"
     ]
    }
   ],
   "source": [
    "user= \"Ram\"\n",
    "\n",
    "def fun():\n",
    "    user = \"Tamal\"\n",
    "    def new():\n",
    "        user=\"mallickboy\"\n",
    "    new()\n",
    "    print(user)\n",
    "\n",
    "fun()\n",
    "print(user)"
   ]
  },
  {
   "cell_type": "code",
   "execution_count": 66,
   "metadata": {},
   "outputs": [
    {
     "name": "stdout",
     "output_type": "stream",
     "text": [
      "Tamal\n",
      "Tamal\n"
     ]
    }
   ],
   "source": [
    "user= \"Ram\"\n",
    "\n",
    "def fun():\n",
    "    global user # global tells Python to use and update the global variable's pointer instead of making a new local one.\n",
    "    user = \"Tamal\"\n",
    "    def new():\n",
    "        user=\"mallickboy\"\n",
    "    new()\n",
    "    print(user)\n",
    "\n",
    "fun()\n",
    "print(user)"
   ]
  },
  {
   "cell_type": "code",
   "execution_count": null,
   "metadata": {},
   "outputs": [
    {
     "name": "stdout",
     "output_type": "stream",
     "text": [
      "2\n",
      "2\n"
     ]
    }
   ],
   "source": [
    "def myfun():\n",
    "    var=2\n",
    "    def nested():\n",
    "        global var\n",
    "        var= 404\n",
    "    print(var)\n",
    "    nested()\n",
    "    print(var)\n",
    "myfun()"
   ]
  },
  {
   "cell_type": "code",
   "execution_count": null,
   "metadata": {},
   "outputs": [
    {
     "name": "stdout",
     "output_type": "stream",
     "text": [
      "I am from local of myfun Scope\n",
      "I am from local of myfun Scope\n",
      "I am from local of myfun.nested Scope\n"
     ]
    }
   ],
   "source": [
    "var= \"I am from Global Scope\"\n",
    "def myfun():\n",
    "    var=\"I am from local of myfun Scope\"  # Has different reference than the global `var` \n",
    "    def nested():\n",
    "        global var  # Refers to the global `var`, not the local one\n",
    "        var=\"I am from local of myfun.nested Scope\"\n",
    "    print(var)  # (1) Before nested() call → local `var` of `myfun`\n",
    "    nested()    # This updates the global `var`\n",
    "    print(var)  # (2) After nested() call → still local `var` of `myfun`\n",
    "myfun()\n",
    "print(var)      # (3) Global `var`, which was updated in nested()"
   ]
  },
  {
   "cell_type": "code",
   "execution_count": null,
   "metadata": {},
   "outputs": [
    {
     "name": "stdout",
     "output_type": "stream",
     "text": [
      "100\n"
     ]
    }
   ],
   "source": [
    "def myfun():\n",
    "    global x\n",
    "    x = 100  # No global x existed before, now created\n",
    "myfun()\n",
    "print(x)"
   ]
  },
  {
   "cell_type": "code",
   "execution_count": 11,
   "metadata": {},
   "outputs": [
    {
     "data": {
      "text/plain": [
       "100"
      ]
     },
     "execution_count": 11,
     "metadata": {},
     "output_type": "execute_result"
    }
   ],
   "source": [
    "x= 99\n",
    "def func2(y):\n",
    "    z= x+y\n",
    "    return z\n",
    "func2(1)"
   ]
  },
  {
   "cell_type": "code",
   "execution_count": 13,
   "metadata": {},
   "outputs": [
    {
     "name": "stdout",
     "output_type": "stream",
     "text": [
      "88\n"
     ]
    }
   ],
   "source": [
    "def func3():\n",
    "    global x\n",
    "    x= 88\n",
    "func3()\n",
    "print(x)"
   ]
  },
  {
   "cell_type": "code",
   "execution_count": null,
   "metadata": {},
   "outputs": [
    {
     "name": "stdout",
     "output_type": "stream",
     "text": [
      "88\n",
      "Nested function : \n",
      "10\n",
      "Got clousure:  None\n"
     ]
    }
   ],
   "source": [
    "def f1():\n",
    "    x= 88\n",
    "    print(x)\n",
    "    def f2():\n",
    "        print(10)\n",
    "    return f2\n",
    "myf=f1()\n",
    "print(\"Nested function : \")\n",
    "myf()\n",
    "print(\"Got clousure: \",myf.__closure__[0].cell_contents if myf.__closure__ else myf.__closure__)"
   ]
  },
  {
   "cell_type": "code",
   "execution_count": 53,
   "metadata": {},
   "outputs": [
    {
     "name": "stdout",
     "output_type": "stream",
     "text": [
      "Nested function : \n",
      "88\n",
      "Got clousure:  88\n"
     ]
    }
   ],
   "source": [
    "def f1():\n",
    "    x= 88           # x is local to f1\n",
    "    def f2():\n",
    "        print(x)    # f2 uses x from the enclosing f1\n",
    "    return f2\n",
    "myf=f1()            # myf is now f2, with x=88 stored inside its closure\n",
    "print(\"Nested function : \")\n",
    "myf()\n",
    "print(\"Got clousure: \",myf.__closure__[0].cell_contents if myf.__closure__ else myf.__closure__)"
   ]
  },
  {
   "cell_type": "code",
   "execution_count": 64,
   "metadata": {},
   "outputs": [
    {
     "name": "stdout",
     "output_type": "stream",
     "text": [
      "Executed\n",
      "Func:\n",
      " 200\n"
     ]
    }
   ],
   "source": [
    "def funct():\n",
    "    print(\"Executed\")\n",
    "    return 200\n",
    "print(\"Func:\\n\",funct())\n",
    "# print() goes left to right, runs everything, turns them into text, and shows them concatenated in one line with spaces."
   ]
  },
  {
   "cell_type": "code",
   "execution_count": 57,
   "metadata": {},
   "outputs": [
    {
     "name": "stdout",
     "output_type": "stream",
     "text": [
      "<function chai.<locals>.actual at 0x000001EA320B9A80> 9\n",
      "<function chai.<locals>.actual at 0x000001EA320CF1A0> 27\n"
     ]
    }
   ],
   "source": [
    "def chai(num):\n",
    "    def actual(x):\n",
    "        return x**num\n",
    "    return actual\n",
    "f= chai(2)\n",
    "# def chai(2):\n",
    "#     def actual(x):\n",
    "#         return x**2\n",
    "#     return actual\n",
    "g= chai(3)\n",
    "print(f, f(3))\n",
    "print(g, g(3))"
   ]
  },
  {
   "cell_type": "code",
   "execution_count": null,
   "metadata": {},
   "outputs": [],
   "source": []
  }
 ],
 "metadata": {
  "kernelspec": {
   "display_name": "Python 3",
   "language": "python",
   "name": "python3"
  },
  "language_info": {
   "codemirror_mode": {
    "name": "ipython",
    "version": 3
   },
   "file_extension": ".py",
   "mimetype": "text/x-python",
   "name": "python",
   "nbconvert_exporter": "python",
   "pygments_lexer": "ipython3",
   "version": "3.13.1"
  }
 },
 "nbformat": 4,
 "nbformat_minor": 2
}
