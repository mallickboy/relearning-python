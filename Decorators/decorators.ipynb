{
 "cells": [
  {
   "cell_type": "markdown",
   "metadata": {},
   "source": [
    "### 1. Timing Function Execution"
   ]
  },
  {
   "cell_type": "code",
   "execution_count": 45,
   "metadata": {},
   "outputs": [
    {
     "name": "stdout",
     "output_type": "stream",
     "text": [
      "Hellow\n",
      "Function `example_function` executed in  1.0008952617645264\n"
     ]
    }
   ],
   "source": [
    "import time\n",
    "\n",
    "def runtime(fun):\n",
    "    def wrapper(*args, **kwargs):\n",
    "        start= time.time()\n",
    "        res= fun(*args, **kwargs)\n",
    "        print(f\"Function `{fun.__name__}` executed in \",time.time()-start)\n",
    "        return res\n",
    "    return wrapper\n",
    "\n",
    "@runtime\n",
    "def example_function(n):\n",
    "    print(\"Hellow\")\n",
    "    time.sleep(n)\n",
    "\n",
    "example_function(1)"
   ]
  },
  {
   "cell_type": "markdown",
   "metadata": {},
   "source": [
    "### 2. Debugging Function Call\n",
    "Create a decorator to print the function name and values of its arguments every time function is called."
   ]
  },
  {
   "cell_type": "code",
   "execution_count": 46,
   "metadata": {},
   "outputs": [
    {
     "name": "stdout",
     "output_type": "stream",
     "text": [
      "Callibg `greet` with args: `Tamal` and kwargs: `greeting: Yoo`\n",
      "Yoo Tamal\n"
     ]
    }
   ],
   "source": [
    "def debug(function):\n",
    "    def wrapper(*args, **kwargs):\n",
    "        args_values= ', '.join(str(arg) for arg in args)\n",
    "        kwargs_values= ', '.join(f\"{key}: {value}\" for key, value in kwargs.items())\n",
    "        print(f\"Callibg `{function.__name__}` with args: `{args_values}` and kwargs: `{kwargs_values}`\")\n",
    "        res= function(*args, **kwargs)\n",
    "        return res\n",
    "    return wrapper\n",
    "\n",
    "def helo():\n",
    "    print(\"Hellow!\")\n",
    "\n",
    "@debug\n",
    "def greet(name, greeting=\"Hellow!\"):\n",
    "    print(f\"{greeting} {name}\")\n",
    "    \n",
    "greet(\"Tamal\", greeting=\"Yoo\")"
   ]
  },
  {
   "cell_type": "markdown",
   "metadata": {},
   "source": [
    "### 3. Cache Return Values\n",
    "Implement a decorator that caches the return values of a function, so that when it called with same arguments again, the cached value is returned instead of reexecuting the function.\n"
   ]
  },
  {
   "cell_type": "code",
   "execution_count": null,
   "metadata": {},
   "outputs": [
    {
     "name": "stdout",
     "output_type": "stream",
     "text": [
      "cached values:  {}\n",
      "Memory Reference  <function long_running_function at 0x00000191E18714E0>\n",
      "<function cache.<locals>.wrapper at 0x00000191E17E0B80>\n"
     ]
    }
   ],
   "source": [
    "import time\n",
    "\n",
    "def cache(function):\n",
    "    cached_value= {}                    # O(1) access time \n",
    "    print(\"cached values: \",cached_value)\n",
    "    def wrapper(*args, **kwargs):\n",
    "        print(\"cached growth: \",cached_value)\n",
    "        if args in cached_value:\n",
    "            return cached_value[args]\n",
    "        res= function(*args, **kwargs)\n",
    "        cached_value[args]= res         # caching the args: result\n",
    "\n",
    "        return res\n",
    "    return wrapper\n",
    "\n",
    "@cache\n",
    "def long_running_function(a, b):\n",
    "    time.sleep(2)                       # let it performing database calls\n",
    "    return a+ b   \n",
    "print(long_running_function)\n",
    "# print(long_running_function(2,3))\n",
    "# print(long_running_function(3,3))\n",
    "# print(long_running_function(2,3))"
   ]
  },
  {
   "cell_type": "code",
   "execution_count": 63,
   "metadata": {},
   "outputs": [
    {
     "name": "stdout",
     "output_type": "stream",
     "text": [
      "Original Function Object in Memory:\t <function say_hi at 0x00000191E19C2700>\n",
      "New Function Object in Memory:\t\t <function decorator.<locals>.wrapper at 0x00000191E19C36A0>\n",
      "Updated Function Object in Memory:\t <function decorator.<locals>.wrapper at 0x00000191E19C36A0>\n"
     ]
    }
   ],
   "source": [
    "def decorator(function):\n",
    "    print(f\"Original Function Object in Memory:\\t {function}\")\n",
    "    def wrapper():\n",
    "        return function()\n",
    "    print(f\"New Function Object in Memory:\\t\\t {wrapper}\")\n",
    "    return wrapper\n",
    "\n",
    "@decorator\n",
    "def say_hi():\n",
    "    print(\"Hiiii !!!\")\n",
    "\n",
    "print(f\"Updated Function Object in Memory:\\t {say_hi}\")"
   ]
  }
 ],
 "metadata": {
  "kernelspec": {
   "display_name": "Python 3",
   "language": "python",
   "name": "python3"
  },
  "language_info": {
   "codemirror_mode": {
    "name": "ipython",
    "version": 3
   },
   "file_extension": ".py",
   "mimetype": "text/x-python",
   "name": "python",
   "nbconvert_exporter": "python",
   "pygments_lexer": "ipython3",
   "version": "3.13.1"
  }
 },
 "nbformat": 4,
 "nbformat_minor": 2
}
