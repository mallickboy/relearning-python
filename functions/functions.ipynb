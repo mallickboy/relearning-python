{
 "cells": [
  {
   "cell_type": "code",
   "execution_count": 11,
   "metadata": {},
   "outputs": [
    {
     "data": {
      "text/plain": [
       "'greet'"
      ]
     },
     "execution_count": 11,
     "metadata": {},
     "output_type": "execute_result"
    }
   ],
   "source": [
    "def square_of_number(parameters):\n",
    "    return parameters**2\n",
    "\n",
    "# Default Parameter value\n",
    "def greet(name=\"User\"):\n",
    "    return f\"Hellow {name} !!!\"\n",
    "x=greet()\n",
    "greet.__name__"
   ]
  },
  {
   "cell_type": "code",
   "execution_count": 17,
   "metadata": {},
   "outputs": [
    {
     "data": {
      "text/plain": [
       "'<lambda>'"
      ]
     },
     "execution_count": 17,
     "metadata": {},
     "output_type": "execute_result"
    }
   ],
   "source": [
    "# Lambda function\n",
    "cube=lambda x: x**3\n",
    "cube(3)\n",
    "x= cube\n",
    "x(2)\n",
    "cube.__name__"
   ]
  },
  {
   "cell_type": "code",
   "execution_count": 123,
   "metadata": {},
   "outputs": [
    {
     "name": "stdout",
     "output_type": "stream",
     "text": [
      "(1, 2, 4) <class 'tuple'>\n",
      "Cube of 1 is 1\n",
      "Cube of 2 is 8\n",
      "Cube of 4 is 64\n",
      "Sum = 7\n"
     ]
    }
   ],
   "source": [
    "# * args\n",
    "def sum_all(*args):\n",
    "    print(args, type(args))\n",
    "    # map(... ) returns a lazy iterator that does not execute immediately\n",
    "    list(map(lambda x: print(f\"Cube of {x} is {x**3}\"), args))\n",
    "    # So, list(map(...)) is used to force execution by iterating over it.\n",
    "    return f\"Sum = {sum(args)}\"\n",
    "print(sum_all(1,2,4))"
   ]
  },
  {
   "cell_type": "code",
   "execution_count": 37,
   "metadata": {},
   "outputs": [
    {
     "name": "stdout",
     "output_type": "stream",
     "text": [
      "{'power': 'Laddu', 'name': 'Chota Bhem', 'enemy': 'Kaliya'} <class 'dict'>\n",
      "power  :  Laddu\n",
      "name  :  Chota Bhem\n",
      "enemy  :  Kaliya\n"
     ]
    }
   ],
   "source": [
    "# ** kwargs\n",
    "def print_kwargs_why(name, power):\n",
    "    print((name, power))\n",
    "# print_kwargs_why(name=\"Chota Bhem\", power=\"Laddu\")\n",
    "# print_kwargs_why(power=\"Laddu\", name=\"Chota Bhem\")\n",
    "# print_kwargs(power=\"Laddu\", name=\"Chota Bhem\", enemy=\"Kaliya\")\n",
    "\n",
    "def print_kwargs(**kwargs):\n",
    "    print(kwargs, type(kwargs))\n",
    "    for key , value in kwargs.items():\n",
    "        print(key,\" : \",value)\n",
    "print_kwargs(power=\"Laddu\", name=\"Chota Bhem\", enemy=\"Kaliya\")"
   ]
  },
  {
   "cell_type": "code",
   "execution_count": 68,
   "metadata": {},
   "outputs": [
    {
     "name": "stdout",
     "output_type": "stream",
     "text": [
      "2\n",
      "<class 'generator'>\n",
      "2 \tGenerated\n",
      "4 \tGenerated\n",
      "6 \tGenerated\n",
      "8 \tGenerated\n",
      "10 \tGenerated\n"
     ]
    }
   ],
   "source": [
    "# Generator  Function with yield\n",
    "def even_generator_why(limit):\n",
    "    for i in range(2, limit+1, 2):\n",
    "        return i\n",
    "print(even_generator_why(10))\n",
    "def even_generator(limit):\n",
    "    for i in range(2, limit+1, 2):\n",
    "        yield i\n",
    "print(type(even_generator(10)))\n",
    "for num in even_generator(10):print(num, \"\\tGenerated\")"
   ]
  },
  {
   "cell_type": "code",
   "execution_count": 114,
   "metadata": {},
   "outputs": [
    {
     "name": "stdout",
     "output_type": "stream",
     "text": [
      "200\n"
     ]
    },
    {
     "data": {
      "text/plain": [
       "<generator object gen at 0x000001AD67768AD0>"
      ]
     },
     "execution_count": 114,
     "metadata": {},
     "output_type": "execute_result"
    }
   ],
   "source": [
    "import sys\n",
    "\n",
    "def gen(n):\n",
    "    # if n==n: print(\"YOOOO\")\n",
    "    # a=[20]*1005\n",
    "    for i in range(n):\n",
    "        yield i\n",
    "\n",
    "g = gen(100000)  # Large generator\n",
    "\n",
    "print(sys.getsizeof(g))  # Output: 112 (very small)\n",
    "g.__iter__()"
   ]
  },
  {
   "cell_type": "code",
   "execution_count": 122,
   "metadata": {},
   "outputs": [
    {
     "name": "stdout",
     "output_type": "stream",
     "text": [
      "Input : 5\n",
      "Input : 4\n",
      "Input : 3\n",
      "Input : 2\n",
      "Input : 1\n"
     ]
    },
    {
     "data": {
      "text/plain": [
       "120"
      ]
     },
     "execution_count": 122,
     "metadata": {},
     "output_type": "execute_result"
    }
   ],
   "source": [
    "# Resurcive Function\n",
    "\n",
    "def factorial(n):\n",
    "    print(f\"Input : {n}\")\n",
    "    if n<2:\n",
    "        return 1\n",
    "    return n* factorial(n-1)\n",
    "factorial(5)"
   ]
  }
 ],
 "metadata": {
  "kernelspec": {
   "display_name": "Python 3",
   "language": "python",
   "name": "python3"
  },
  "language_info": {
   "codemirror_mode": {
    "name": "ipython",
    "version": 3
   },
   "file_extension": ".py",
   "mimetype": "text/x-python",
   "name": "python",
   "nbconvert_exporter": "python",
   "pygments_lexer": "ipython3",
   "version": "3.13.1"
  }
 },
 "nbformat": 4,
 "nbformat_minor": 2
}
