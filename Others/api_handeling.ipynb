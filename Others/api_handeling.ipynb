{
 "cells": [
  {
   "cell_type": "code",
   "execution_count": 3,
   "metadata": {},
   "outputs": [
    {
     "name": "stdout",
     "output_type": "stream",
     "text": [
      "200\n",
      "{'Server': 'nginx/1.18.0 (Ubuntu)', 'Date': 'Thu, 06 Mar 2025 19:41:23 GMT', 'Content-Type': 'application/json; charset=utf-8', 'Content-Length': '1123', 'Connection': 'keep-alive', 'X-Powered-By': 'Express', 'Access-Control-Allow-Origin': '*', 'Access-Control-Allow-Credentials': 'true', 'RateLimit-Limit': '5000', 'RateLimit-Remaining': '4977', 'RateLimit-Reset': '244', 'ETag': 'W/\"463-FpvT2CVnFdGYijQU4URrxJGbJPU\"', 'Set-Cookie': 'connect.sid=s%3AAwc9UaPWT17QokOT_G1pGEILplycpXPN.UUcuK9D2bp07wc2VeRWFipq97p2hZMFOuUuvfFM%2B16I; Path=/; HttpOnly'}\n",
      "utf-8\n",
      "{\"statusCode\":200,\"data\":{\"gender\":\"female\",\"name\":{\"title\":\"Miss\",\"first\":\"Ella\",\"last\":\"Anderson\"},\"location\":{\"street\":{\"number\":6664,\"name\":\"York St\"},\"city\":\"Alma\",\"state\":\"New Brunswick\",\"country\":\"Canada\",\"postcode\":\"F1F 7K2\",\"coordinates\":{\"latitude\":\"67.8222\",\"longitude\":\"0.1770\"},\"timezone\":{\"offset\":\"+7:00\",\"description\":\"Bangkok, Hanoi, Jakarta\"}},\"email\":\"ella.anderson@example.com\",\"login\":{\"uuid\":\"37feaebf-1c9c-4144-a843-47b8e4068bcf\",\"username\":\"whitefrog562\",\"password\":\"expert\",\"salt\":\"18j0tIxr\",\"md5\":\"0dccd206b1e9d231314fa50a3dbf0396\",\"sha1\":\"a2f4d10cd149bc1a038c7774367d0c524f855eb8\",\"sha256\":\"7b59de457aba726150fde9e75ca541795c1eaf428c10da5de6cf516344e94d80\"},\"dob\":{\"date\":\"1996-09-07T15:53:56.031Z\",\"age\":26},\"registered\":{\"date\":\"2021-10-04T17:38:47.232Z\",\"age\":1},\"phone\":\"C61 G16-2722\",\"cell\":\"P17 Q93-9540\",\"id\":363,\"picture\":{\"large\":\"https://randomuser.me/api/portraits/women/61.jpg\",\"medium\":\"https://randomuser.me/api/portraits/med/women/61.jpg\",\"thumbnail\":\"https://randomuser.me/api/portraits/thumb/women/61.jpg\"},\"nat\":\"CA\"},\"message\":\"Random user fetched successfully\",\"success\":true}\n",
      "{'statusCode': 200, 'data': {'gender': 'female', 'name': {'title': 'Miss', 'first': 'Ella', 'last': 'Anderson'}, 'location': {'street': {'number': 6664, 'name': 'York St'}, 'city': 'Alma', 'state': 'New Brunswick', 'country': 'Canada', 'postcode': 'F1F 7K2', 'coordinates': {'latitude': '67.8222', 'longitude': '0.1770'}, 'timezone': {'offset': '+7:00', 'description': 'Bangkok, Hanoi, Jakarta'}}, 'email': 'ella.anderson@example.com', 'login': {'uuid': '37feaebf-1c9c-4144-a843-47b8e4068bcf', 'username': 'whitefrog562', 'password': 'expert', 'salt': '18j0tIxr', 'md5': '0dccd206b1e9d231314fa50a3dbf0396', 'sha1': 'a2f4d10cd149bc1a038c7774367d0c524f855eb8', 'sha256': '7b59de457aba726150fde9e75ca541795c1eaf428c10da5de6cf516344e94d80'}, 'dob': {'date': '1996-09-07T15:53:56.031Z', 'age': 26}, 'registered': {'date': '2021-10-04T17:38:47.232Z', 'age': 1}, 'phone': 'C61 G16-2722', 'cell': 'P17 Q93-9540', 'id': 363, 'picture': {'large': 'https://randomuser.me/api/portraits/women/61.jpg', 'medium': 'https://randomuser.me/api/portraits/med/women/61.jpg', 'thumbnail': 'https://randomuser.me/api/portraits/thumb/women/61.jpg'}, 'nat': 'CA'}, 'message': 'Random user fetched successfully', 'success': True}\n"
     ]
    },
    {
     "data": {
      "text/plain": [
       "str"
      ]
     },
     "execution_count": 3,
     "metadata": {},
     "output_type": "execute_result"
    }
   ],
   "source": [
    "import requests\n",
    "\n",
    "r= requests.get(\"https://api.freeapi.app/api/v1/public/randomusers/user/random\")\n",
    "print(r.status_code)\n",
    "print(r.headers)\n",
    "print(r.encoding)\n",
    "print(r.text)\n",
    "print(r.json())\n",
    "type(r.text)"
   ]
  },
  {
   "cell_type": "code",
   "execution_count": 20,
   "metadata": {},
   "outputs": [
    {
     "data": {
      "text/plain": [
       "200"
      ]
     },
     "execution_count": 20,
     "metadata": {},
     "output_type": "execute_result"
    }
   ],
   "source": [
    "r= requests.get(\"https://pysearch.mallickboy.com\")\n",
    "r.status_code"
   ]
  },
  {
   "cell_type": "code",
   "execution_count": 5,
   "metadata": {},
   "outputs": [
    {
     "name": "stdout",
     "output_type": "stream",
     "text": [
      "\n",
      "Runtime Report for 'fetch_random_user':\n",
      "- Memory Used During Execution : 0.04 MB\n",
      "- Memory Currently Occupied    : 0.005 MB\n",
      "- Memory Freed After Execution : 0.036 MB\n",
      "- Time Required for Execution  : 332.993 ms\n",
      "\n",
      "Username: smallkoala605, Country: Mexico\n"
     ]
    }
   ],
   "source": [
    "import requests\n",
    "from mylib.runtime import runtime\n",
    "\n",
    "@runtime\n",
    "def fetch_random_user():\n",
    "    url= \"https://api.freeapi.app/api/v1/public/randomusers/user/random\"\n",
    "    response= requests.get(url)\n",
    "    data= response.json()\n",
    "    if data[\"success\"] and \"data\" in data:\n",
    "        user_data= data[\"data\"]\n",
    "        user_name= user_data[\"login\"][\"username\"]\n",
    "        user_country= user_data[\"location\"][\"country\"]\n",
    "        return user_name, user_country\n",
    "    else:\n",
    "        raise Exception(\"Failed to fetch user data\")\n",
    "# fetch_random_user()\n",
    "\n",
    "def main():\n",
    "    try:\n",
    "        user_name, user_country= fetch_random_user()\n",
    "        print(f\"\\nUsername: {user_name}, Country: {user_country}\")\n",
    "    except Exception as e:\n",
    "        print(str(e))\n",
    "\n",
    "if __name__==\"__main__\":\n",
    "    main()"
   ]
  }
 ],
 "metadata": {
  "kernelspec": {
   "display_name": "Python 3",
   "language": "python",
   "name": "python3"
  },
  "language_info": {
   "codemirror_mode": {
    "name": "ipython",
    "version": 3
   },
   "file_extension": ".py",
   "mimetype": "text/x-python",
   "name": "python",
   "nbconvert_exporter": "python",
   "pygments_lexer": "ipython3",
   "version": "3.13.1"
  }
 },
 "nbformat": 4,
 "nbformat_minor": 2
}
