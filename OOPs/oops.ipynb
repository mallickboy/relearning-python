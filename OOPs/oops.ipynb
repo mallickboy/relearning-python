{
 "cells": [
  {
   "cell_type": "code",
   "execution_count": 34,
   "metadata": {},
   "outputs": [
    {
     "name": "stdout",
     "output_type": "stream",
     "text": [
      "Doll 1:\n",
      " I am Cinderella. I have Blond hair. I have a Annabelle costume.\n",
      "Doll 2:\n",
      " I am Rosey. I have Black hair. I have a Chucky costume. I have Purse, Hat, Chain.\n"
     ]
    }
   ],
   "source": [
    "class MetalMold:\n",
    "    def __init__(self, name=\"a Doll\"):\n",
    "        self.doll = f\"I am {name}.\"\n",
    "\n",
    "    def add_hair(self, color=\"Black\"):      #  Adds hair color to the doll\n",
    "        self.doll += f\" I have {color} hair.\"\n",
    "\n",
    "    def add_costume(self, costume_name):            # Adds a costume to the doll.\n",
    "        self.doll += f\" I have a {costume_name} costume.\"\n",
    "\n",
    "    def add_decorations(self, items):       # Adds accessories or decorations to the doll.\n",
    "        self.doll += f\" I have {', '.join(items)}.\"\n",
    "\n",
    "    def know_about_me(self):                # Returns the doll's final description.\n",
    "        return self.doll\n",
    "\n",
    "# Creating objects / base body\n",
    "doll_1, doll_2 = MetalMold(\"Cinderella\"), MetalMold(\"Rosey\")\n",
    "\n",
    "# Now decorating using methods\n",
    "doll_1.add_hair(color=\"Blond\")  \n",
    "doll_1.add_costume(costume_name=\"Annabelle\")  \n",
    "\n",
    "doll_2.add_hair()  \n",
    "doll_2.add_costume(costume_name=\"Chucky\")  \n",
    "doll_2.add_decorations(items=[\"Purse\", \"Hat\", \"Chain\"])  \n",
    "\n",
    "# Displaying final details\n",
    "print(\"Doll 1:\\n\", doll_1.know_about_me())  \n",
    "print(\"Doll 2:\\n\", doll_2.know_about_me())  "
   ]
  },
  {
   "cell_type": "markdown",
   "metadata": {},
   "source": [
    "### 1. Basic Class and Object"
   ]
  },
  {
   "cell_type": "code",
   "execution_count": 35,
   "metadata": {},
   "outputs": [
    {
     "name": "stdout",
     "output_type": "stream",
     "text": [
      "Toyota Corolla\n",
      "Tata Safari\n"
     ]
    }
   ],
   "source": [
    "class Car:\n",
    "    def __init__(self, brand, model)->None:\n",
    "        self.brand= brand   # Attributes     \n",
    "        self.model= model\n",
    "\n",
    "my_car=Car(\"Toyota\", \"Corolla\")        # instance of class (object 1) : usable memory image of class Car\n",
    "print(my_car.brand, my_car.model)\n",
    "\n",
    "new_car=Car(\"Tata\", \"Safari\")          # object 2\n",
    "print(new_car.brand, new_car.model) "
   ]
  },
  {
   "cell_type": "markdown",
   "metadata": {},
   "source": [
    "### 2. Class Method and self"
   ]
  },
  {
   "cell_type": "code",
   "execution_count": 36,
   "metadata": {},
   "outputs": [
    {
     "name": "stdout",
     "output_type": "stream",
     "text": [
      "Full Name : Toyota Corolla\n",
      "Full Name : Tata Safari\n"
     ]
    }
   ],
   "source": [
    "class Car:\n",
    "    def __init__(self, brand, model)->None:\n",
    "        self.brand= brand   # Attributes     \n",
    "        self.model= model\n",
    "\n",
    "    def full_name(self):    # self works as a connection line to reach different componentsof the class.\n",
    "        return f\"Full Name : {self.brand} {self.model}\"\n",
    "my_car=Car(\"Toyota\", \"Corolla\")        # instance of class (object 1) : usable memory image of class Car\n",
    "print(my_car.full_name())\n",
    "\n",
    "new_car=Car(\"Tata\", \"Safari\")          # object 2\n",
    "print(new_car.full_name())"
   ]
  },
  {
   "cell_type": "markdown",
   "metadata": {},
   "source": [
    "### 3. Inheritance"
   ]
  },
  {
   "cell_type": "code",
   "execution_count": 37,
   "metadata": {},
   "outputs": [
    {
     "name": "stdout",
     "output_type": "stream",
     "text": [
      "Tesla Model S 85 kWh\n",
      "Full Name : Tesla Model S\n"
     ]
    }
   ],
   "source": [
    "class ElectricCar(Car):\n",
    "    def __init__(self, brand, model, battery_size):\n",
    "        # self.brand= brand                 # no need predefined\n",
    "        super().__init__(brand, model)      # Taking parental access\n",
    "        self.battery_size= battery_size\n",
    "tesla_car=ElectricCar(\"Tesla\", \"Model S\", \"85 kWh\")\n",
    "print(tesla_car.brand, tesla_car.model, tesla_car.battery_size)\n",
    "print(tesla_car.full_name())"
   ]
  },
  {
   "cell_type": "markdown",
   "metadata": {},
   "source": [
    "### 4. Encapsulation"
   ]
  },
  {
   "cell_type": "code",
   "execution_count": 38,
   "metadata": {},
   "outputs": [
    {
     "name": "stdout",
     "output_type": "stream",
     "text": [
      "Tesla!\n",
      "Tata Motors\n",
      "Tesla!\n",
      "All instances of this Object: {'model': 'Model S', '_Car__brand': 'Tesla', '__brand': 'Tata Motors'}\n"
     ]
    }
   ],
   "source": [
    "class Car:\n",
    "    def __init__(self, brand, model):\n",
    "        self.model= model\n",
    "        self.__brand= brand     # private class attribute\n",
    "\n",
    "    def get_brand(self):        # custom access on private attributes\n",
    "        return self.__brand + \"!\"\n",
    "    \n",
    "tesla_car=Car(\"Tesla\", \"Model S\")\n",
    "print(tesla_car.get_brand())           # Output: Tesla!\n",
    "\n",
    "tesla_car.__brand= \"Tata Motors\"       # This does NOT overwrite the private __brand instaed creates new one. also if not created raed attemp gives error\n",
    "print(tesla_car.__brand)               # Output: Tata Motors (new attribute created)\n",
    "\n",
    "print(tesla_car.get_brand())           # Output: Tesla!\n",
    "\n",
    "print(\"All instances of this Object:\",tesla_car.__dict__)       # all the instance attributes of an object"
   ]
  },
  {
   "cell_type": "markdown",
   "metadata": {},
   "source": [
    "### Polymorphism"
   ]
  },
  {
   "cell_type": "code",
   "execution_count": 39,
   "metadata": {},
   "outputs": [
    {
     "name": "stdout",
     "output_type": "stream",
     "text": [
      "Model S Etectricity\n",
      "Safari Petrol or Diesel\n"
     ]
    }
   ],
   "source": [
    "class Car:\n",
    "    def __init__(self, brand, model):\n",
    "        self.model= model\n",
    "        self.__brand= brand     # private class attribute\n",
    "\n",
    "    def get_brand(self):        # custom access on private attributes\n",
    "        return self.__brand + \"!\"\n",
    "    \n",
    "    def fuel_type(self):\n",
    "        return \"Petrol or Diesel\"\n",
    "\n",
    "class ElectricCar(Car):\n",
    "    def __init__(self, brand, model, battery_size):\n",
    "        super().__init__(brand, model)\n",
    "        self.battery_size= battery_size\n",
    "    def fuel_type(self):\n",
    "        return \"Etectricity\"\n",
    "\n",
    "tesla_car=ElectricCar(\"Tesla\", \"Model S\", \"85 kWh\")\n",
    "print(tesla_car.model, tesla_car.fuel_type())\n",
    "\n",
    "safari_car=Car(\"Tata Motors\", \"Safari\")\n",
    "print(safari_car.model, safari_car.fuel_type())"
   ]
  },
  {
   "cell_type": "markdown",
   "metadata": {},
   "source": [
    "### Class Variables"
   ]
  },
  {
   "cell_type": "code",
   "execution_count": 40,
   "metadata": {},
   "outputs": [
    {
     "name": "stdout",
     "output_type": "stream",
     "text": [
      "4 4\n"
     ]
    }
   ],
   "source": [
    "# Task: Add a class variable to Car that keeps tarck of the number of car created.\n",
    "class Car:\n",
    "    total_car=0\n",
    "    def __init__(self, brand, model):\n",
    "        self.model= model\n",
    "        self.__brand= brand     # private class attribute\n",
    "        Car.total_car += 1      # class variable\n",
    "        # self.total_car += 1   # Alternate\n",
    "\n",
    "    def get_brand(self):        # custom access on private attributes\n",
    "        return self.__brand + \"!\"\n",
    "    \n",
    "    def fuel_type(self):\n",
    "        return \"Petrol or Diesel\"\n",
    "    \n",
    "x=Car(\"Tata Motors\", \"Jaguar\")\n",
    "Car(\"Tata Motors\", \"Safari\")\n",
    "Car(\"Tata Motors\", \"Nano\")\n",
    "Car(\"Tata Motors\", \"Sumo\")\n",
    "\n",
    "print(Car.total_car, x.total_car)"
   ]
  },
  {
   "cell_type": "markdown",
   "metadata": {},
   "source": [
    "### Static Method\n",
    "A method that belongs to the class itself, not to any specific instance of the class (object)."
   ]
  },
  {
   "cell_type": "code",
   "execution_count": 41,
   "metadata": {},
   "outputs": [
    {
     "name": "stdout",
     "output_type": "stream",
     "text": [
      "Cars are means of transportation.\n"
     ]
    },
    {
     "ename": "TypeError",
     "evalue": "Car.general_description() missing 1 required positional argument: 'self'",
     "output_type": "error",
     "traceback": [
      "\u001b[1;31m---------------------------------------------------------------------------\u001b[0m",
      "\u001b[1;31mTypeError\u001b[0m                                 Traceback (most recent call last)",
      "Cell \u001b[1;32mIn[41], line 18\u001b[0m\n\u001b[0;32m     15\u001b[0m my_car\u001b[38;5;241m=\u001b[39mCar(\u001b[38;5;124m\"\u001b[39m\u001b[38;5;124mTata Motors\u001b[39m\u001b[38;5;124m\"\u001b[39m, \u001b[38;5;124m\"\u001b[39m\u001b[38;5;124mJaguar\u001b[39m\u001b[38;5;124m\"\u001b[39m)\n\u001b[0;32m     17\u001b[0m \u001b[38;5;28mprint\u001b[39m(my_car\u001b[38;5;241m.\u001b[39mgeneral_description())\n\u001b[1;32m---> 18\u001b[0m \u001b[38;5;28mprint\u001b[39m(\u001b[43mCar\u001b[49m\u001b[38;5;241;43m.\u001b[39;49m\u001b[43mgeneral_description\u001b[49m\u001b[43m(\u001b[49m\u001b[43m)\u001b[49m)\n",
      "\u001b[1;31mTypeError\u001b[0m: Car.general_description() missing 1 required positional argument: 'self'"
     ]
    }
   ],
   "source": [
    "class Car:\n",
    "    total_car=0\n",
    "    def __init__(self, brand, model):\n",
    "        self.model= model\n",
    "        self.__brand= brand     # private class attribute\n",
    "        Car.total_car += 1      # class variable\n",
    "        # self.total_car += 1   # Alternate\n",
    "    \n",
    "    def fuel_type(self):\n",
    "        return \"Petrol or Diesel\"\n",
    "    \n",
    "    def general_description(self):\n",
    "        return \"Cars are means of transportation.\"\n",
    "    \n",
    "my_car=Car(\"Tata Motors\", \"Jaguar\")\n",
    "\n",
    "print(my_car.general_description())\n",
    "print(Car.general_description())"
   ]
  },
  {
   "cell_type": "code",
   "execution_count": null,
   "metadata": {},
   "outputs": [
    {
     "name": "stdout",
     "output_type": "stream",
     "text": [
      "Cars are means of transportation.\n",
      "Cars are means of transportation.\n"
     ]
    }
   ],
   "source": [
    "# Task: Add a class variable to Car that keeps tarck of the number of car created.\n",
    "class Car:\n",
    "    total_car=0\n",
    "    def __init__(self, brand, model):\n",
    "        self.model= model\n",
    "        self.__brand= brand     # private class attribute\n",
    "        Car.total_car += 1      # class variable\n",
    "        # self.total_car += 1   # Alternate\n",
    "    \n",
    "    def fuel_type(self):\n",
    "        return \"Petrol or Diesel\"\n",
    "    @staticmethod\n",
    "    def general_description():\n",
    "        return \"Cars are means of transportation.\"\n",
    "    \n",
    "my_car=Car(\"Tata Motors\", \"Jaguar\")\n",
    "\n",
    "print(Car.general_description())\n",
    "print(my_car.general_description())"
   ]
  },
  {
   "cell_type": "markdown",
   "metadata": {},
   "source": [
    "### 8. Property Decorators\n",
    "Task: Use the Property Decorator in yhe Car class to make the model attribute read-only."
   ]
  },
  {
   "cell_type": "code",
   "execution_count": null,
   "metadata": {},
   "outputs": [
    {
     "name": "stdout",
     "output_type": "stream",
     "text": [
      "{'_Car__model': 'Jaguar', '_Car__brand': 'Tata Motors'}\n",
      "{'_Car__model': 'Jaguar', '_Car__brand': 'Tata Motors', 'model': 'Safari'}\n"
     ]
    },
    {
     "ename": "TypeError",
     "evalue": "'str' object is not callable",
     "output_type": "error",
     "traceback": [
      "\u001b[1;31m---------------------------------------------------------------------------\u001b[0m",
      "\u001b[1;31mTypeError\u001b[0m                                 Traceback (most recent call last)",
      "Cell \u001b[1;32mIn[21], line 18\u001b[0m\n\u001b[0;32m     15\u001b[0m my_car\u001b[38;5;241m.\u001b[39mmodel\u001b[38;5;241m=\u001b[39m \u001b[38;5;124m\"\u001b[39m\u001b[38;5;124mSafari\u001b[39m\u001b[38;5;124m\"\u001b[39m\n\u001b[0;32m     17\u001b[0m \u001b[38;5;28mprint\u001b[39m(my_car\u001b[38;5;241m.\u001b[39m\u001b[38;5;18m__dict__\u001b[39m)\n\u001b[1;32m---> 18\u001b[0m \u001b[38;5;28mprint\u001b[39m(\u001b[43mmy_car\u001b[49m\u001b[38;5;241;43m.\u001b[39;49m\u001b[43mmodel\u001b[49m\u001b[43m(\u001b[49m\u001b[43m)\u001b[49m)\n",
      "\u001b[1;31mTypeError\u001b[0m: 'str' object is not callable"
     ]
    }
   ],
   "source": [
    "class Car:\n",
    "    total_car=0\n",
    "    def __init__(self, brand, model):\n",
    "        self.__model= model\n",
    "        self.__brand= brand     # private class attribute\n",
    "        Car.total_car += 1      # class variable\n",
    "        # self.total_car += 1   # Alternate\n",
    "\n",
    "    def model(self):\n",
    "        return self.__model\n",
    "    \n",
    "my_car=Car(\"Tata Motors\", \"Jaguar\")\n",
    "\n",
    "print(my_car.__dict__)\n",
    "my_car.model= \"Safari\"\n",
    "\n",
    "print(my_car.__dict__)\n",
    "print(my_car.model())"
   ]
  },
  {
   "cell_type": "code",
   "execution_count": null,
   "metadata": {},
   "outputs": [
    {
     "name": "stdout",
     "output_type": "stream",
     "text": [
      "{'_Car__model': 'Jaguar', '_Car__brand': 'Tata Motors'}\n",
      "{'_Car__model': 'Jaguar', '_Car__brand': 'Tata Motors'}\n",
      "Jaguar\n"
     ]
    },
    {
     "ename": "AttributeError",
     "evalue": "property 'model' of 'Car' object has no setter",
     "output_type": "error",
     "traceback": [
      "\u001b[1;31m---------------------------------------------------------------------------\u001b[0m",
      "\u001b[1;31mAttributeError\u001b[0m                            Traceback (most recent call last)",
      "Cell \u001b[1;32mIn[32], line 19\u001b[0m\n\u001b[0;32m     17\u001b[0m \u001b[38;5;28mprint\u001b[39m(my_car\u001b[38;5;241m.\u001b[39m\u001b[38;5;18m__dict__\u001b[39m)\n\u001b[0;32m     18\u001b[0m \u001b[38;5;28mprint\u001b[39m(my_car\u001b[38;5;241m.\u001b[39mmodel)\n\u001b[1;32m---> 19\u001b[0m \u001b[43mmy_car\u001b[49m\u001b[38;5;241;43m.\u001b[39;49m\u001b[43mmodel\u001b[49m\u001b[38;5;241m=\u001b[39m \u001b[38;5;124m\"\u001b[39m\u001b[38;5;124mSafari\u001b[39m\u001b[38;5;124m\"\u001b[39m\n",
      "\u001b[1;31mAttributeError\u001b[0m: property 'model' of 'Car' object has no setter"
     ]
    }
   ],
   "source": [
    "class Car:\n",
    "    total_car=0\n",
    "    def __init__(self, brand, model):\n",
    "        self.__model= model\n",
    "        self.__brand= brand     # private class attribute\n",
    "        Car.total_car += 1      # class variable\n",
    "\n",
    "    @property       # Hiding, access through method | Read-only\n",
    "    def model(self):\n",
    "        return self.__model\n",
    "    def ch(self):\n",
    "        self.__model=\"xyz\"\n",
    "    \n",
    "my_car=Car(\"Tata Motors\", \"Jaguar\")\n",
    "\n",
    "print(my_car.__dict__)\n",
    "print(my_car.__dict__)\n",
    "print(my_car.model)\n",
    "my_car.model= \"Safari\"      # Unable to overwrite"
   ]
  },
  {
   "cell_type": "markdown",
   "metadata": {},
   "source": [
    "### 9. Class Inheritance and isinstance() Function\n",
    "Task: Demonstrate the use of isinstance() to check if `tesla_car` is an instance of Car and ElectricCar."
   ]
  },
  {
   "cell_type": "code",
   "execution_count": 44,
   "metadata": {},
   "outputs": [
    {
     "name": "stdout",
     "output_type": "stream",
     "text": [
      "True\n",
      "True\n"
     ]
    }
   ],
   "source": [
    "class Car:\n",
    "    def __init__(self, brand, model):\n",
    "        self.model= model\n",
    "        self.__brand= brand     # private class attribute\n",
    "\n",
    "    def get_brand(self):        # custom access on private attributes\n",
    "        return self.__brand + \"!\"\n",
    "    \n",
    "    def fuel_type(self):\n",
    "        return \"Petrol or Diesel\"\n",
    "\n",
    "class ElectricCar(Car):\n",
    "    def __init__(self, brand, model, battery_size):\n",
    "        super().__init__(brand, model)\n",
    "        self.battery_size= battery_size\n",
    "    def fuel_type(self):\n",
    "        return \"Etectricity\"\n",
    "\n",
    "tesla_car=ElectricCar(\"Tesla\", \"Model S\", \"85 kWh\")\n",
    "\n",
    "print(isinstance(tesla_car, Car))\n",
    "\n",
    "print(isinstance(tesla_car, ElectricCar))"
   ]
  },
  {
   "cell_type": "markdown",
   "metadata": {},
   "source": [
    "### 10. Multiple Inheritance\n",
    "Task: Craete 2 class Battery and Engine, and let the ElectricCar class inherit from both."
   ]
  },
  {
   "cell_type": "code",
   "execution_count": null,
   "metadata": {},
   "outputs": [
    {
     "name": "stdout",
     "output_type": "stream",
     "text": [
      "{'model': 'Model S', '_Car__brand': 'Tesla', 'battery_size': '85 kWh'}\n",
      "I have 85 kWh Battery. I have X41 Brushless motors.\n"
     ]
    }
   ],
   "source": [
    "class Car:\n",
    "    def __init__(self, brand, model):\n",
    "        self.model= model\n",
    "        self.__brand= brand     # private class attribute\n",
    "\n",
    "class Battery:\n",
    "    battery=\"I have 85 kWh Battery.\"\n",
    "\n",
    "class Engine:\n",
    "    engine=\"I have X41 Brushless motors.\"\n",
    "\n",
    "class ElectricCar(Battery, Engine, Car):\n",
    "    def __init__(self, brand, model, battery_size):\n",
    "        super().__init__(brand, model)\n",
    "        self.battery_size= battery_size\n",
    "    def fuel_type(self):\n",
    "        return \"Etectricity\"\n",
    "\n",
    "tesla_car=ElectricCar(\"Tesla\", \"Model S\", \"85 kWh\")\n",
    "\n",
    "print(tesla_car.__dict__)       # only contains instance-level attributes\n",
    "print(tesla_car.battery, tesla_car.engine)"
   ]
  }
 ],
 "metadata": {
  "kernelspec": {
   "display_name": "Python 3",
   "language": "python",
   "name": "python3"
  },
  "language_info": {
   "codemirror_mode": {
    "name": "ipython",
    "version": 3
   },
   "file_extension": ".py",
   "mimetype": "text/x-python",
   "name": "python",
   "nbconvert_exporter": "python",
   "pygments_lexer": "ipython3",
   "version": "3.13.1"
  }
 },
 "nbformat": 4,
 "nbformat_minor": 2
}
